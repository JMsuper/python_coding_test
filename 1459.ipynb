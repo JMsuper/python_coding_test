{
 "cells": [
  {
   "cell_type": "code",
   "execution_count": 7,
   "id": "7aeab339",
   "metadata": {},
   "outputs": [
    {
     "name": "stdout",
     "output_type": "stream",
     "text": [
      "135 122 43 29\n",
      "3929\n"
     ]
    }
   ],
   "source": [
    "x, y, w, s = map(int,input().split())\n",
    "cx, cy = 0, 0\n",
    "answer = 0\n",
    "\n",
    "while cx != x or cy != y:\n",
    "    tx = x - cx\n",
    "    ty = y - cy\n",
    "    # 대각선 1칸 이동\n",
    "    if tx >= 1 and ty >= 1:\n",
    "        cx += 1\n",
    "        cy += 1\n",
    "        if 2 * w <= s:\n",
    "            answer += 2 * w\n",
    "        else:\n",
    "            answer += s\n",
    "        continue\n",
    "    # 위로 직선 2칸 이동\n",
    "    elif tx == 0 and ty >= 2:\n",
    "        cy += 2\n",
    "        if w > s:\n",
    "            answer += 2 * s\n",
    "        else:\n",
    "            answer += 2 * w\n",
    "        continue\n",
    "    # 오른쪽으로 직선 2칸 이동\n",
    "    elif tx >= 2 and ty == 0:\n",
    "        cx += 2\n",
    "        if w > s:\n",
    "            answer += 2 * s\n",
    "        else:\n",
    "            answer += 2 * w\n",
    "        continue\n",
    "    # 위로 직선 1칸 이동\n",
    "    elif tx == 0 and ty == 1:\n",
    "        cy += 1\n",
    "        answer += w\n",
    "        continue\n",
    "    # 오른쪽으로 직선 2칸 이동\n",
    "    elif tx == 1 and ty == 0:\n",
    "        cx += 1\n",
    "        answer += w\n",
    "        continue\n",
    "print(answer)"
   ]
  }
 ],
 "metadata": {
  "kernelspec": {
   "display_name": "Python 3 (ipykernel)",
   "language": "python",
   "name": "python3"
  },
  "language_info": {
   "codemirror_mode": {
    "name": "ipython",
    "version": 3
   },
   "file_extension": ".py",
   "mimetype": "text/x-python",
   "name": "python",
   "nbconvert_exporter": "python",
   "pygments_lexer": "ipython3",
   "version": "3.9.12"
  }
 },
 "nbformat": 4,
 "nbformat_minor": 5
}
