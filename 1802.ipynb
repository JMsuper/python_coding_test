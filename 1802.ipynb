{
 "cells": [
  {
   "cell_type": "code",
   "execution_count": 9,
   "id": "d9f40f20",
   "metadata": {},
   "outputs": [
    {
     "name": "stdout",
     "output_type": "stream",
     "text": [
      "1\n",
      "11011\n",
      "NO\n"
     ]
    }
   ],
   "source": [
    "t = int(input())\n",
    "t_list = []\n",
    "for i in range(t):\n",
    "    t_list.append(list(input()))\n",
    "\n",
    "def d_and_q(t_list):\n",
    "    if len(t_list) == 1:\n",
    "        return t_list[0]\n",
    "    center_idx = len(t_list) // 2ㅋ\n",
    "    left_result = d_and_q(t_list[:center_idx])\n",
    "    right_result = d_and_q(t_list[center_idx+1:])\n",
    "    \n",
    "    if left_result and right_result and left_result != right_result:\n",
    "        return t_list[center_idx]\n",
    "    else:\n",
    "        return False\n",
    "\n",
    "for i in range(t):\n",
    "    if d_and_q(t_list[i]):\n",
    "        print(\"YES\")\n",
    "    else:\n",
    "        print(\"NO\")"
   ]
  },
  {
   "cell_type": "code",
   "execution_count": null,
   "id": "0c3f3839",
   "metadata": {},
   "outputs": [],
   "source": [
    "# 처음에 틀렸다.\n",
    "# 그 원인은 확인해야 하는 조건을 잘못 작성하였기 때문이다.\n",
    "t = int(input())\n",
    "t_list = []\n",
    "for i in range(t):\n",
    "    t_list.append(list(input()))\n",
    "\n",
    "def d_and_q(t_list):\n",
    "    if len(t_list) == 1:\n",
    "        return True\n",
    "    center_idx = len(t_list) // 2\n",
    "    \n",
    "    for i in range(center_idx):\n",
    "        if t_list[i] == t_list[len(t_list)-1-i]:\n",
    "            return False\n",
    "    \n",
    "    left_result = d_and_q(t_list[:center_idx])\n",
    "    right_result = d_and_q(t_list[center_idx+1:])\n",
    "    \n",
    "    if left_result and right_result:\n",
    "        return True\n",
    "    else:\n",
    "        return False\n",
    "\n",
    "for i in range(t):\n",
    "    if d_and_q(t_list[i]):\n",
    "        print(\"YES\")\n",
    "    else:\n",
    "        print(\"NO\")"
   ]
  },
  {
   "cell_type": "code",
   "execution_count": 12,
   "id": "610c644a",
   "metadata": {},
   "outputs": [],
   "source": []
  }
 ],
 "metadata": {
  "kernelspec": {
   "display_name": "Python 3 (ipykernel)",
   "language": "python",
   "name": "python3"
  },
  "language_info": {
   "codemirror_mode": {
    "name": "ipython",
    "version": 3
   },
   "file_extension": ".py",
   "mimetype": "text/x-python",
   "name": "python",
   "nbconvert_exporter": "python",
   "pygments_lexer": "ipython3",
   "version": "3.9.12"
  }
 },
 "nbformat": 4,
 "nbformat_minor": 5
}
