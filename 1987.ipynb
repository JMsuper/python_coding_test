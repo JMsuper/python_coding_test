{
 "cells": [
  {
   "cell_type": "code",
   "execution_count": 22,
   "id": "e122ef70",
   "metadata": {
    "scrolled": true
   },
   "outputs": [
    {
     "name": "stdout",
     "output_type": "stream",
     "text": [
      "2 4\n",
      "CAAB\n",
      "ADCB\n",
      "3\n"
     ]
    }
   ],
   "source": [
    "R, C = map(int,input().split(\" \"))\n",
    "graph = []\n",
    "\n",
    "for _ in range(R):\n",
    "    graph.append(list(input()))\n",
    "    \n",
    "visited = [False for _ in range(26)]\n",
    "\n",
    "ans = 0\n",
    "stack = []\n",
    "stack.append([0,0,0])\n",
    "\n",
    "def is_visited(r,c):\n",
    "    alphabet = graph[r][c]\n",
    "    alpha_num = alpha_to_num(alphabet)\n",
    "    return visited[alpha_num]\n",
    "\n",
    "def alpha_to_num(alphabet):\n",
    "    return ord(alphabet) - 65\n",
    "\n",
    "dx = [0,0,-1,1]\n",
    "dy = [-1,1,0,0]\n",
    "\n",
    "while stack:\n",
    "    cur_r, cur_c, i = stack[-1]\n",
    "    if not is_visited(cur_r,cur_c):\n",
    "        visited[alpha_to_num(graph[cur_r][cur_c])] = True\n",
    "    if len(stack) > ans:\n",
    "        ans = len(stack)\n",
    "        \n",
    "    end = True\n",
    "    for j in range(i,4):\n",
    "        nx = cur_r + dx[j]\n",
    "        ny = cur_c + dy[j]\n",
    "        if 0 <= nx < R and 0 <= ny < C and not is_visited(nx,ny):\n",
    "            stack[-1][2] = j + 1\n",
    "            stack.append([nx,ny,0])\n",
    "            end = False\n",
    "            break\n",
    "\n",
    "    if end:\n",
    "        x, y, temp = stack.pop()\n",
    "        last_item = graph[x][y]\n",
    "        visited[alpha_to_num(graph[x][y])] = False\n",
    "        \n",
    "    \n",
    "print(ans)  "
   ]
  },
  {
   "cell_type": "code",
   "execution_count": 18,
   "id": "6411314e",
   "metadata": {},
   "outputs": [
    {
     "data": {
      "text/plain": [
       "25"
      ]
     },
     "execution_count": 18,
     "metadata": {},
     "output_type": "execute_result"
    }
   ],
   "source": [
    "ord('Z') - 65"
   ]
  },
  {
   "cell_type": "code",
   "execution_count": 25,
   "id": "2ed1b81f",
   "metadata": {},
   "outputs": [
    {
     "name": "stdout",
     "output_type": "stream",
     "text": [
      "2 4\n",
      "CAAB\n",
      "ADCB\n",
      "3\n"
     ]
    }
   ],
   "source": [
    "r,c = map(int,input().split())\n",
    "maps = []\n",
    "for _ in range(r):\n",
    "    maps.append(list(input()))\n",
    "ans = 0\n",
    "alphas = [False for _ in range(26)]\n",
    "dx = [-1,1,0,0]\n",
    "dy = [0,0,-1,1]\n",
    "\n",
    "def is_visited(r,c):\n",
    "    alphabet = maps[r][c]\n",
    "    alpha_num = alpha_to_num(alphabet)\n",
    "    return alphas[alpha_num]\n",
    "\n",
    "def alpha_to_num(alphabet):\n",
    "    return ord(alphabet) - 65\n",
    "\n",
    "def dfs(x, y, count):\n",
    "    global ans\n",
    "    ans = max(ans, count)\n",
    "    for i in range(4):\n",
    "        nx = x + dx[i]\n",
    "        ny = y + dy[i]\n",
    "        if 0 <= nx < r and 0 <= ny < c and not is_visited(nx,ny):\n",
    "            alphas[alpha_to_num(maps[nx][ny])] = True\n",
    "            dfs(nx, ny, count+1)\n",
    "            alphas[alpha_to_num(maps[nx][ny])] = False\n",
    "alphas[alpha_to_num(maps[0][0])] = True\n",
    "dfs(0,0,1)\n",
    "print(ans)"
   ]
  }
 ],
 "metadata": {
  "kernelspec": {
   "display_name": "Python 3 (ipykernel)",
   "language": "python",
   "name": "python3"
  },
  "language_info": {
   "codemirror_mode": {
    "name": "ipython",
    "version": 3
   },
   "file_extension": ".py",
   "mimetype": "text/x-python",
   "name": "python",
   "nbconvert_exporter": "python",
   "pygments_lexer": "ipython3",
   "version": "3.9.12"
  }
 },
 "nbformat": 4,
 "nbformat_minor": 5
}
