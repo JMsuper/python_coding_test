{
 "cells": [
  {
   "cell_type": "code",
   "execution_count": null,
   "id": "2a94f5af",
   "metadata": {},
   "outputs": [],
   "source": [
    "# 해답을 참고한 이후\n",
    "from functools import cmp_to_key\n",
    "\n",
    "n = int(input())\n",
    "str_list = []\n",
    "for _ in range(n):\n",
    "    str_list.append(input())\n",
    "\n",
    "def compare(x,y):\n",
    "    if x + y > y + x:\n",
    "        return 1\n",
    "    elif x + y < y + x:\n",
    "        return -1\n",
    "    else:\n",
    "        return 0\n",
    "    \n",
    "answer = \"\"\n",
    "while str_list:\n",
    "    if n == 1:\n",
    "        answer += str_list[0]\n",
    "        break\n",
    "    str_list.sort(key=cmp_to_key(compare))\n",
    "    \n",
    "    if len(str_list[0]) == 1:\n",
    "        answer += str_list[0][0]\n",
    "        del str_list[0]\n",
    "        n -= 1\n",
    "    else:\n",
    "        answer += str_list[0][0]\n",
    "        str_list[0] = str_list[0][1:]\n",
    "print(answer)"
   ]
  }
 ],
 "metadata": {
  "kernelspec": {
   "display_name": "Python 3 (ipykernel)",
   "language": "python",
   "name": "python3"
  },
  "language_info": {
   "codemirror_mode": {
    "name": "ipython",
    "version": 3
   },
   "file_extension": ".py",
   "mimetype": "text/x-python",
   "name": "python",
   "nbconvert_exporter": "python",
   "pygments_lexer": "ipython3",
   "version": "3.9.12"
  }
 },
 "nbformat": 4,
 "nbformat_minor": 5
}
