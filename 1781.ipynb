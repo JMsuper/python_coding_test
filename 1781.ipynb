{
 "cells": [
  {
   "cell_type": "code",
   "execution_count": 25,
   "id": "c9a620b3",
   "metadata": {},
   "outputs": [
    {
     "name": "stdout",
     "output_type": "stream",
     "text": [
      "4\n",
      "1 3\n",
      "2 35\n",
      "1 2\n",
      "1 1\n",
      "[1]\n",
      "[1, 2]\n",
      "[2, 3]\n",
      "[3, 35]\n",
      "67\n"
     ]
    }
   ],
   "source": [
    "import heapq\n",
    "\n",
    "p_num = int(input())\n",
    "p_list = []\n",
    "for i in range(p_num):\n",
    "    p_list.append(list(map(int,input().split())))\n",
    "\n",
    "p_list.sort()\n",
    "\n",
    "queue = []\n",
    "\n",
    "for i in p_list:\n",
    "    heapq.heappush(queue,i[1])\n",
    "    if i[0] < len(queue):\n",
    "        heapq.heappop(queue)\n",
    "\n",
    "print(sum(queue))"
   ]
  },
  {
   "cell_type": "code",
   "execution_count": null,
   "id": "ff9a31cd",
   "metadata": {},
   "outputs": [],
   "source": []
  }
 ],
 "metadata": {
  "kernelspec": {
   "display_name": "Python 3 (ipykernel)",
   "language": "python",
   "name": "python3"
  },
  "language_info": {
   "codemirror_mode": {
    "name": "ipython",
    "version": 3
   },
   "file_extension": ".py",
   "mimetype": "text/x-python",
   "name": "python",
   "nbconvert_exporter": "python",
   "pygments_lexer": "ipython3",
   "version": "3.9.12"
  }
 },
 "nbformat": 4,
 "nbformat_minor": 5
}
