{
 "cells": [
  {
   "cell_type": "code",
   "execution_count": 43,
   "id": "8d1736bf",
   "metadata": {},
   "outputs": [
    {
     "name": "stdout",
     "output_type": "stream",
     "text": [
      "4\n",
      "1 2 1 2\n",
      "16\n"
     ]
    }
   ],
   "source": [
    "# 처음 시도한 코드\n",
    "factory_num = int(input())\n",
    "buy_list = list(map(int,input().split()))\n",
    "# 공장이 1번부터 번호가 부여되기 때문에 구매 리스트도 이와 동일하게 맞춘다.\n",
    "buy_list.insert(0,-1)\n",
    "\n",
    "cost_list = [0,3,5,7]\n",
    "\n",
    "curr = 1\n",
    "cost = 0\n",
    "\n",
    "# 현재 방문한 공장의 번호가 공장수를 넘기면 반복문 종료\n",
    "while factory_num >= curr:\n",
    "    cnt = 0\n",
    "    for i in range(3):\n",
    "        if curr + i <= factory_num and buy_list[curr + i] > 0:\n",
    "            cnt += 1\n",
    "        else:\n",
    "            break\n",
    "    if cnt > 0:\n",
    "        temp_list = buy_list[curr:curr+cnt]\n",
    "        buy_num = min(temp_list)\n",
    "        for i in range(cnt):\n",
    "            buy_list[curr + i] -= buy_num\n",
    "        cost += buy_num * cost_list[cnt]\n",
    "        continue\n",
    "    curr += 1\n",
    "    \n",
    "print(cost)        "
   ]
  },
  {
   "cell_type": "code",
   "execution_count": 46,
   "id": "eb4bb8e1",
   "metadata": {},
   "outputs": [
    {
     "name": "stdout",
     "output_type": "stream",
     "text": [
      "4\n",
      "1 2 1 2\n",
      "15\n"
     ]
    }
   ],
   "source": [
    "# 틀린 이후 해답을 참고한 코드\n",
    "factory_num = int(input())\n",
    "buy_list = list(map(int,input().split()))\n",
    "# 공장이 1번부터 번호가 부여되기 때문에 구매 리스트도 이와 동일하게 맞춘다.\n",
    "buy_list.insert(0,-1)\n",
    "\n",
    "cost_list = [0,3,5,7]\n",
    "\n",
    "curr = 1\n",
    "cost = 0\n",
    "\n",
    "# 현재 방문한 공장의 번호가 공장수를 넘기면 반복문 종료\n",
    "while factory_num >= curr:\n",
    "    cnt = 0\n",
    "    for i in range(3):\n",
    "        if curr + i <= factory_num and buy_list[curr + i] > 0:\n",
    "            cnt += 1\n",
    "        else:\n",
    "            break\n",
    "    if cnt > 0:\n",
    "        buy_num = 0\n",
    "        temp_list = buy_list[curr:curr+cnt]\n",
    "        if cnt == 3 and buy_list[curr+1] > buy_list[curr+2]:\n",
    "            cnt -= 1\n",
    "            buy_num = min(buy_list[curr], buy_list[curr+1]-buy_list[curr+2])\n",
    "        else:\n",
    "            buy_num = min(temp_list)\n",
    "        for i in range(cnt):\n",
    "            buy_list[curr + i] -= buy_num\n",
    "        cost += buy_num * cost_list[cnt]\n",
    "        continue\n",
    "    curr += 1\n",
    "    \n",
    "print(cost)  "
   ]
  },
  {
   "cell_type": "code",
   "execution_count": null,
   "id": "56897eee",
   "metadata": {},
   "outputs": [],
   "source": [
    "# 틀린 이유\n",
    "# 간단하게 3, 2, 1 순서로 그리디하게 풀면 되는 줄 알았다.\n",
    "# 하지만, 3개의 공장에서 1개씩 구매가 가능하고 두번째 공장이 세번째 공장보다 구매량이 많을 경우 반례가 존재함을\n",
    "# 인지하지 못했다.\n",
    "# 만약, 두번째 공장이 세번째 공장보다 구매량이 많은데 3개의 공장에서 1개씩 구매한다면,\n",
    "# 이후 두번째 공장에서 1개의 라면을 단독으로 구매해야하기 때문에 비용이 더 들게 된다.\n",
    "# 그렇다면 이러한 반례는 어떻게 찾을 수 있을까?\n",
    "# 내가 작성한 알고리즘의 정당성을 찾아 반례가 존재하는 지 확인해야 한다."
   ]
  }
 ],
 "metadata": {
  "kernelspec": {
   "display_name": "Python 3 (ipykernel)",
   "language": "python",
   "name": "python3"
  },
  "language_info": {
   "codemirror_mode": {
    "name": "ipython",
    "version": 3
   },
   "file_extension": ".py",
   "mimetype": "text/x-python",
   "name": "python",
   "nbconvert_exporter": "python",
   "pygments_lexer": "ipython3",
   "version": "3.9.12"
  }
 },
 "nbformat": 4,
 "nbformat_minor": 5
}
