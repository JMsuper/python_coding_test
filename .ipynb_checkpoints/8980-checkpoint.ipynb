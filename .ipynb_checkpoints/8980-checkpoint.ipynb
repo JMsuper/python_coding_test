{
 "cells": [
  {
   "cell_type": "code",
   "execution_count": 7,
   "id": "23371d27",
   "metadata": {},
   "outputs": [
    {
     "name": "stdout",
     "output_type": "stream",
     "text": [
      "6 60\n",
      "5\n",
      "1 2 30\n",
      "2 5 70\n",
      "5 6 60\n",
      "3 4 40\n",
      "1 6 40\n",
      "[[1, 2, 30], [1, 6, 40], [2, 5, 70], [3, 4, 40], [5, 6, 60]]\n",
      "[0, 0, 0, 0, 0, 0, 0] 1 2 30\n",
      "[0, 0, 30, 0, 0, 0, 0] 1 6 40\n",
      "[0, 0, 30, 0, 0, 0, 30] 2 5 70\n",
      "[0, 0, 0, 0, 0, 30, 30] 3 4 40\n",
      "[0, 0, 0, 0, 0, 30, 30] 5 6 60\n",
      "120\n"
     ]
    }
   ],
   "source": [
    "# 박스를 트럭에 실으면, 이 박스는 받는 마을에서만 내린다.\n",
    "# 트럭은 지나온 마을로 되돌아가지 않는다.\n",
    "# 박스들 중 일부만 배송할 수도 있다.\n",
    "# 받는 마을번호는 보내는 마을번호보다 항상 크다.\n",
    "\n",
    "# 2 <= n <= 2000, 1 <= c <= 10000, 1 <= m <= 10000\n",
    "n, c = map(int,input().split())\n",
    "m = int(input())\n",
    "\n",
    "town = [0 for i in range(n+1)]\n",
    "delivery = []\n",
    "curr_box = 0\n",
    "sum_box = 0\n",
    "curr_town = 0\n",
    "\n",
    "for i in range(m):\n",
    "    delivery.append(list(map(int,input().split())))\n",
    "\n",
    "delivery.sort(key = lambda x : (x[0],x[1],x[2]))\n",
    "print(delivery)\n",
    "for send, recv, box in delivery:\n",
    "    print(town, send, recv, box)\n",
    "    if send != curr_town:\n",
    "        curr_town = send\n",
    "        curr_box -= town[curr_town]\n",
    "        sum_box += town[curr_town]\n",
    "        town[curr_town] = 0\n",
    "    if curr_box == c:\n",
    "        continue\n",
    "    if c - curr_box - box < 0:\n",
    "        town[recv] += c - curr_box\n",
    "        curr_box = c\n",
    "    else:\n",
    "        town[recv] += box\n",
    "        curr_box += box\n",
    "    \n",
    "\n",
    "while curr_box > 0 or curr_town <= n :\n",
    "    curr_box -= town[curr_town]\n",
    "    sum_box += town[curr_town]\n",
    "    town[curr_town] = 0\n",
    "    curr_town += 1\n",
    "\n",
    "print(sum_box)\n",
    "    "
   ]
  },
  {
   "cell_type": "code",
   "execution_count": 13,
   "id": "fac12bc2",
   "metadata": {},
   "outputs": [
    {
     "name": "stdout",
     "output_type": "stream",
     "text": [
      "6 60\n",
      "5\n",
      "1 2 30\n",
      "2 5 70\n",
      "5 6 60\n",
      "3 4 40\n",
      "1 6 40\n",
      "[[1, 2, 30], [3, 4, 40], [2, 5, 70], [5, 6, 60], [1, 6, 40]]\n",
      "[60, 60, 60, 60, 60, 60, 60]\n",
      "[60, 30, 60, 60, 60, 60, 60]\n",
      "[60, 30, 60, 20, 60, 60, 60]\n",
      "[60, 30, 40, 0, 40, 60, 60]\n",
      "[60, 30, 40, 0, 40, 0, 60]\n",
      "150\n"
     ]
    }
   ],
   "source": [
    "n, c = map(int,input().split())\n",
    "m = int(input())\n",
    "\n",
    "town = [c for i in range(n+1)]\n",
    "delivery = []\n",
    "sum_box = 0\n",
    "\n",
    "for i in range(m):\n",
    "    delivery.append(list(map(int,input().split())))\n",
    "\n",
    "delivery.sort(key = lambda x : x[1])\n",
    "for send,recv,box in delivery:\n",
    "    town_min = min(town[send:recv])\n",
    "    if town_min == 0:\n",
    "        continue\n",
    "    if box > town_min:\n",
    "        sum_box += town_min\n",
    "        for i in range(send,recv):\n",
    "            town[i] -= town_min\n",
    "    else:\n",
    "        sum_box += box\n",
    "        for i in range(send,recv):\n",
    "            town[i] -= box\n",
    "        \n",
    "            \n",
    "print(sum_box)"
   ]
  }
 ],
 "metadata": {
  "kernelspec": {
   "display_name": "Python 3 (ipykernel)",
   "language": "python",
   "name": "python3"
  },
  "language_info": {
   "codemirror_mode": {
    "name": "ipython",
    "version": 3
   },
   "file_extension": ".py",
   "mimetype": "text/x-python",
   "name": "python",
   "nbconvert_exporter": "python",
   "pygments_lexer": "ipython3",
   "version": "3.9.12"
  }
 },
 "nbformat": 4,
 "nbformat_minor": 5
}
