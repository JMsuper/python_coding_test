{
 "cells": [
  {
   "cell_type": "code",
   "execution_count": 7,
   "id": "9cbf3af9",
   "metadata": {},
   "outputs": [
    {
     "name": "stdout",
     "output_type": "stream",
     "text": [
      "3 3\n",
      "1 2\n",
      "2 3\n",
      "3 4\n",
      "1\n"
     ]
    }
   ],
   "source": [
    "n, l = map(int,input().split())\n",
    "pool_list = []\n",
    "cnt = 0\n",
    "for _ in range(n):\n",
    "    pool = list(map(int,input().split()))\n",
    "    pool.append(pool[1]-pool[0])\n",
    "    pool_list.append(pool)\n",
    "\n",
    "pool_list.sort(key=lambda x:x[0])\n",
    "\n",
    "for i in range(n):\n",
    "    start,end,pool_len=pool_list[i]\n",
    "    if pool_len == 0:\n",
    "        continue\n",
    "    bridge_num = (pool_len + (l-1))//l\n",
    "    cnt += bridge_num\n",
    "    if bridge_num * l > pool_len and i < n - 1:\n",
    "        bridge_end = start + bridge_num * l - 1\n",
    "        j = i + 1\n",
    "        while j < n and pool_list[j][0] <= bridge_end:\n",
    "            if pool_list[j][1] - 1 <= bridge_end:\n",
    "                pool_list[j][2] = 0\n",
    "                j += 1\n",
    "                continue\n",
    "            else:\n",
    "                pool_list[j][0] = bridge_end + 1\n",
    "                pool_list[j][2] = pool_list[j][1] - pool_list[j][0]\n",
    "                break\n",
    "print(cnt)"
   ]
  }
 ],
 "metadata": {
  "kernelspec": {
   "display_name": "Python 3 (ipykernel)",
   "language": "python",
   "name": "python3"
  },
  "language_info": {
   "codemirror_mode": {
    "name": "ipython",
    "version": 3
   },
   "file_extension": ".py",
   "mimetype": "text/x-python",
   "name": "python",
   "nbconvert_exporter": "python",
   "pygments_lexer": "ipython3",
   "version": "3.9.12"
  }
 },
 "nbformat": 4,
 "nbformat_minor": 5
}
