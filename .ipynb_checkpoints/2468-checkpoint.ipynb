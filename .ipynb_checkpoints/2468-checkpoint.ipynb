{
 "cells": [
  {
   "cell_type": "code",
   "execution_count": null,
   "id": "22a126e6",
   "metadata": {},
   "outputs": [],
   "source": [
    "# 초기 입력값 세팅\n",
    "N = int(input())\n",
    "graph = []\n",
    "for _ in range(N):\n",
    "    graph.append(list(map(int,input().split(\" \"))))\n",
    "\n",
    "# 제일 높은 값 탐색\n",
    "highest = 0\n",
    "for arr in graph:\n",
    "    max_arr = max(arr)\n",
    "    if max_arr > highest:\n",
    "        highest = max_arr\n",
    "\n",
    "max_cnt = 0\n",
    "dx = [-1,1,0,0]\n",
    "dy = [0,0,-1,1]\n",
    "\n",
    "\n",
    "def dfs(x,y,height,visited):\n",
    "    if graph[x][y] <= height:\n",
    "        return False\n",
    "    stack = []\n",
    "    stack.append([x,y])\n",
    "    while stack:\n",
    "        cx, cy = stack[-1]\n",
    "        visited[cx][cy] = 1\n",
    "        is_end = True\n",
    "        for i in range(4):\n",
    "            nx, ny = cx + dx[i], cy + dy[i]\n",
    "            if 0 <= nx < N and 0 <= ny < N and graph[nx][ny] > height and visited[nx][ny] == 0:\n",
    "                stack.append([nx,ny])\n",
    "                is_end = False\n",
    "                break\n",
    "        if is_end:\n",
    "            stack.pop()\n",
    "    return True\n",
    "\n",
    "\n",
    "for i in range(1,highest):\n",
    "    cnt = 0\n",
    "    visited = [[0] * N for _ in range(N)]\n",
    "    for j in range(N):\n",
    "        for k in range(N):\n",
    "            if visited[j][k] == 0 and dfs(j,k,i,visited):\n",
    "                cnt += 1\n",
    "    if cnt > max_cnt:\n",
    "        max_cnt = cnt\n",
    "if max_cnt == 0:\n",
    "    print(1)\n",
    "    exit()\n",
    "print(max_cnt)"
   ]
  }
 ],
 "metadata": {
  "kernelspec": {
   "display_name": "Python 3 (ipykernel)",
   "language": "python",
   "name": "python3"
  },
  "language_info": {
   "codemirror_mode": {
    "name": "ipython",
    "version": 3
   },
   "file_extension": ".py",
   "mimetype": "text/x-python",
   "name": "python",
   "nbconvert_exporter": "python",
   "pygments_lexer": "ipython3",
   "version": "3.9.12"
  }
 },
 "nbformat": 4,
 "nbformat_minor": 5
}
