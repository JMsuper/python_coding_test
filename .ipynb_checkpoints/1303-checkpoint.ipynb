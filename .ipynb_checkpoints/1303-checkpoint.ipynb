{
 "cells": [
  {
   "cell_type": "code",
   "execution_count": null,
   "id": "57e8d418",
   "metadata": {},
   "outputs": [],
   "source": [
    "# 우리 병사 : 흰색\n",
    "# 적군 병사 : 파란색\n",
    "# 같은 팀의 병사가 모일수록 강해진다.\n",
    "# N명이 뭉쳤을 때 N^2의 위력을 낼 수 있다.\n",
    "# 대각선은 뭉쳐있다고 보지 않는다.\n",
    "# N : 가로크기\n",
    "# M : 세로크기\n",
    "# B는 파란색(적군), W는 흰색(아군)\n",
    "# 적군과 아군은 각각 1이상이다.\n",
    "\n",
    "N, M = map(int,input().split(\" \"))\n",
    "graph = []\n",
    "visited = []\n",
    "for _ in range(M):\n",
    "    graph.append(list(input()))\n",
    "    visited.append([0 for _ in range(N)])\n",
    "\n",
    "power_b, power_w = 0, 0\n",
    "dx = [-1,1,0,0]\n",
    "dy = [0,0,-1,1]\n",
    "\n",
    "\n",
    "def bfs(x,y):\n",
    "    global power_b, power_w\n",
    "    queue = []\n",
    "    if visited[x][y] == 0:\n",
    "        queue.append([x,y])\n",
    "    cur_color = graph[x][y]\n",
    "    visited[x][y] = 1\n",
    "    cnt = 0\n",
    "    while queue:\n",
    "        cx, cy = queue.pop(0)\n",
    "        cnt += 1\n",
    "        for i in range(4):\n",
    "            nx, ny = cx + dx[i], cy + dy[i]\n",
    "            if 0 <= nx < M and 0 <= ny < N and visited[nx][ny] == 0 and graph[nx][ny] == cur_color:\n",
    "                queue.append([nx,ny])\n",
    "                visited[nx][ny] = 1\n",
    "    if cur_color == 'B':\n",
    "        power_b += cnt * cnt\n",
    "    else:\n",
    "        power_w += cnt * cnt\n",
    "\n",
    "for i in range(M):\n",
    "    for j in range(N):\n",
    "        if visited[i][j] == 0:\n",
    "            bfs(i,j)\n",
    "print(power_w, power_b)"
   ]
  }
 ],
 "metadata": {
  "kernelspec": {
   "display_name": "Python 3 (ipykernel)",
   "language": "python",
   "name": "python3"
  },
  "language_info": {
   "codemirror_mode": {
    "name": "ipython",
    "version": 3
   },
   "file_extension": ".py",
   "mimetype": "text/x-python",
   "name": "python",
   "nbconvert_exporter": "python",
   "pygments_lexer": "ipython3",
   "version": "3.9.12"
  }
 },
 "nbformat": 4,
 "nbformat_minor": 5
}
