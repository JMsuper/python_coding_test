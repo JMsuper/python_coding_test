{
 "cells": [
  {
   "cell_type": "code",
   "execution_count": 59,
   "id": "fc263656",
   "metadata": {},
   "outputs": [
    {
     "name": "stdout",
     "output_type": "stream",
     "text": [
      "4\n",
      "24 2 3 29\n",
      "25 30 30 30\n",
      "7\n"
     ]
    }
   ],
   "source": [
    "# 해설을 보기 전(틀림)\n",
    "gift_num = int(input())\n",
    "remain = list(map(int,input().split()))\n",
    "plan = list(map(int,input().split()))\n",
    "\n",
    "curr = 0\n",
    "count = 0\n",
    "\n",
    "while gift_num > 0:\n",
    "    remain_min = min(remain)\n",
    "    plan_min = min(plan)\n",
    "    \n",
    "    total_min = -1\n",
    "    min_index = -1\n",
    "    if remain_min < plan_min:\n",
    "        total_min = remain_min\n",
    "        min_index = remain.index(remain_min)\n",
    "    else:\n",
    "        total_min = plan_min\n",
    "        min_index = plan.index(plan_min)\n",
    "    \n",
    "    if remain[min_index] >= plan[min_index]:\n",
    "        if remain[min_index] == remain_min:\n",
    "            del remain[min_index]\n",
    "            del plan[min_index]\n",
    "            gift_num -= 1\n",
    "        else:\n",
    "            count += 1\n",
    "            remain[remain.index(remain_min)] += 30\n",
    "    elif remain[min_index] < plan[min_index] and remain[min_index] == remain_min:\n",
    "        count += 1\n",
    "        remain[min_index] += 30\n",
    "    curr = total_min\n",
    "    \n",
    "print(count)\n",
    "    "
   ]
  },
  {
   "cell_type": "code",
   "execution_count": 60,
   "id": "32470eaf",
   "metadata": {},
   "outputs": [
    {
     "name": "stdout",
     "output_type": "stream",
     "text": [
      "4\n",
      "24 2 3 29\n",
      "25 30 30 30\n",
      "6\n"
     ]
    }
   ],
   "source": [
    "# 해설을 본 후 수정한 코드\n",
    "gift_num = int(input())\n",
    "remain = list(map(int,input().split()))\n",
    "plan = list(map(int,input().split()))\n",
    "\n",
    "total_list = list([remain,plan] for remain, plan in zip(remain, plan) )\n",
    "count = 0\n",
    "\n",
    "total_list.sort(key = lambda x:(x[1],x[0]))\n",
    "remain_max = total_list[0][0]\n",
    "curr = 0\n",
    "\n",
    "while total_list[curr][0] < total_list[curr][1]:\n",
    "    total_list[curr][0] += 30\n",
    "    count += 1\n",
    "\n",
    "while gift_num > 0:\n",
    "    \n",
    "    nxt = curr + 1\n",
    "    while nxt < len(total_list) and total_list[curr][1] == total_list[nxt][1]:\n",
    "        nxt += 1\n",
    "            \n",
    "    for i in range(curr, nxt, 1):   \n",
    "        temp_max = max(remain_max,total_list[curr][1])\n",
    "        \n",
    "        while temp_max > total_list[i][0]:\n",
    "            cnt = (temp_max - total_list[i][0] + 29) // 30\n",
    "            total_list[i][0] += 30 * cnt\n",
    "            count += cnt\n",
    "            \n",
    "    remain_max = max(total_list[curr:nxt],key = lambda x:x[0])[0]\n",
    "    gift_num -= (nxt - curr)\n",
    "    curr = nxt\n",
    "    \n",
    "print(count)"
   ]
  }
 ],
 "metadata": {
  "kernelspec": {
   "display_name": "Python 3 (ipykernel)",
   "language": "python",
   "name": "python3"
  },
  "language_info": {
   "codemirror_mode": {
    "name": "ipython",
    "version": 3
   },
   "file_extension": ".py",
   "mimetype": "text/x-python",
   "name": "python",
   "nbconvert_exporter": "python",
   "pygments_lexer": "ipython3",
   "version": "3.9.12"
  }
 },
 "nbformat": 4,
 "nbformat_minor": 5
}
