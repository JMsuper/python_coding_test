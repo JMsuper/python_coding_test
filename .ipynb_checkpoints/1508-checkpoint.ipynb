{
 "cells": [
  {
   "cell_type": "code",
   "execution_count": null,
   "id": "e5a052b0",
   "metadata": {},
   "outputs": [],
   "source": [
    "# 참고링크 : https://geniusjo-story.tistory.com/208\n",
    "n,m,k = map(int,input().split())\n",
    "loc = list(map(int,input().split()))\n",
    "\n",
    "# 이 문제는 매개변수 탐색을 사용해서 푼다.\n",
    "# 가장 가까운 두 심판의 거리가 가장 큰(최대인) 경우를 찾아야 한다.\n",
    "# 즉, 최적화 문제이다. 매개변수 탐색을 통해 최적화 문제를\n",
    "# 결정문제로 바꾸어서 푼다.\n",
    "# 두 심판 거리의 최소값을 임의의 값으로 설정하고,\n",
    "# 해당 값에서 심판들이 배치가 가능한지 확인한다.\n",
    "# 가능하다면, 더 큰 거리값을 사용하여 확인한다.\n",
    "# 불가능하다면, 거리값을 낮추어 확인한다.\n",
    "# 조건을 만족하는 최소값을 찾을 때까지 반복문을 수행하여 문제를 해결한다."
   ]
  },
  {
   "cell_type": "code",
   "execution_count": 18,
   "id": "3af326b4",
   "metadata": {},
   "outputs": [
    {
     "name": "stdout",
     "output_type": "stream",
     "text": [
      "1000 5 10\n",
      "6 9 33 59 100 341 431 444 565 857\n",
      "1000010111\n"
     ]
    }
   ],
   "source": [
    "n,m,k = map(int,input().split())\n",
    "loc_list = list(map(int,input().split()))\n",
    "\n",
    "def decision(mid):\n",
    "    answer = \"\"\n",
    "    cnt = 0\n",
    "    limit = 0\n",
    "    for loc in loc_list:\n",
    "        if loc >= limit:\n",
    "            answer += \"1\"\n",
    "            limit = loc + mid\n",
    "            cnt += 1\n",
    "        else:\n",
    "            answer += \"0\"\n",
    "        if cnt == m:\n",
    "            for _ in range(k-len(answer)):\n",
    "                answer += \"0\"\n",
    "            break\n",
    "    if cnt == m:\n",
    "        return answer\n",
    "    else:\n",
    "        return \"\"\n",
    "\n",
    "start = 0\n",
    "end = n\n",
    "answer = \"\"\n",
    "\n",
    "while start <= end:\n",
    "    mid = (start + end) // 2\n",
    "    tmp = decision(mid)\n",
    "    if len(tmp) == 0:\n",
    "        end = mid - 1\n",
    "    else:\n",
    "        answer = tmp\n",
    "        start = mid + 1\n",
    "\n",
    "print(answer)    "
   ]
  },
  {
   "cell_type": "code",
   "execution_count": null,
   "id": "c0fd22d7",
   "metadata": {},
   "outputs": [],
   "source": []
  }
 ],
 "metadata": {
  "kernelspec": {
   "display_name": "Python 3 (ipykernel)",
   "language": "python",
   "name": "python3"
  },
  "language_info": {
   "codemirror_mode": {
    "name": "ipython",
    "version": 3
   },
   "file_extension": ".py",
   "mimetype": "text/x-python",
   "name": "python",
   "nbconvert_exporter": "python",
   "pygments_lexer": "ipython3",
   "version": "3.9.12"
  }
 },
 "nbformat": 4,
 "nbformat_minor": 5
}
