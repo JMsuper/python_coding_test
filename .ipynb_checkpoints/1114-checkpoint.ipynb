{
 "cells": [
  {
   "cell_type": "code",
   "execution_count": 40,
   "id": "8dc471de",
   "metadata": {},
   "outputs": [
    {
     "name": "stdout",
     "output_type": "stream",
     "text": [
      "5 10 10\n",
      "4 3 2 1 4 3 2 1 4 3\n",
      "2.5 2\n",
      "2.5 1 2 2 3\n",
      "[[-3, 2, 5], [-2, 0, 2]] [] [1, 3, 4] [2]\n",
      "3.5 3\n",
      "3.5 1 3 2 4\n",
      "[[-2, 0, 2], [-1, 2, 3], [-2, 3, 5]] [] [1, 4] [2, 3]\n",
      "1.0 1\n",
      "1.0 0 1 1 4\n",
      "[[-2, 3, 5], [-1, 1, 2], [-1, 0, 1], [-1, 2, 3]] [] [4] [2, 3, 1]\n",
      "4.0 4\n"
     ]
    },
    {
     "ename": "IndexError",
     "evalue": "list index out of range",
     "output_type": "error",
     "traceback": [
      "\u001b[1;31m---------------------------------------------------------------------------\u001b[0m",
      "\u001b[1;31mIndexError\u001b[0m                                Traceback (most recent call last)",
      "Input \u001b[1;32mIn [40]\u001b[0m, in \u001b[0;36m<cell line: 16>\u001b[1;34m()\u001b[0m\n\u001b[0;32m     23\u001b[0m right \u001b[38;5;241m=\u001b[39m bisect_right(slice_pos_list,floor_mid)\n\u001b[0;32m     24\u001b[0m slice_pos \u001b[38;5;241m=\u001b[39m \u001b[38;5;241m0\u001b[39m\n\u001b[1;32m---> 25\u001b[0m \u001b[38;5;28mprint\u001b[39m(mid, left, slice_pos_list[left],right, \u001b[43mslice_pos_list\u001b[49m\u001b[43m[\u001b[49m\u001b[43mright\u001b[49m\u001b[43m]\u001b[49m)\n\u001b[0;32m     26\u001b[0m \u001b[38;5;28;01mif\u001b[39;00m \u001b[38;5;129;01mnot\u001b[39;00m (start \u001b[38;5;241m<\u001b[39m slice_pos_list[left] \u001b[38;5;129;01mand\u001b[39;00m end \u001b[38;5;241m>\u001b[39m slice_pos_list[left]) \u001b[38;5;129;01mand\u001b[39;00m \u001b[38;5;129;01mnot\u001b[39;00m (start \u001b[38;5;241m<\u001b[39m slice_pos_list[right] \u001b[38;5;129;01mand\u001b[39;00m end \u001b[38;5;241m>\u001b[39m slice_pos_list[right]):\n\u001b[0;32m     27\u001b[0m     heapq\u001b[38;5;241m.\u001b[39mheappush(ended_slice_list,[\u001b[38;5;241m-\u001b[39mlength,start,end])\n",
      "\u001b[1;31mIndexError\u001b[0m: list index out of range"
     ]
    }
   ],
   "source": [
    "import heapq\n",
    "import math\n",
    "from bisect import bisect_left, bisect_right\n",
    "\n",
    "\n",
    "default_len, pos_num, slice_num = map(int,input().split(' '))\n",
    "slice_pos_list = list(set(map(int,input().split(' '))))\n",
    "slice_pos_list.sort()\n",
    "\n",
    "slice_list = []\n",
    "ended_slice_list = []\n",
    "sliced_pos_list = []\n",
    "# heapq를 최대힙으로 사용하기 위해 '-' 부호 붙임\n",
    "heapq.heappush(slice_list,[-default_len, 0, default_len])\n",
    "\n",
    "while slice_num > 0 and slice_pos_list and slice_list:\n",
    "    length, start, end = heapq.heappop(slice_list)\n",
    "    length = -length\n",
    "    mid = start + length/2\n",
    "    floor_mid = math.floor(mid)\n",
    "    print(mid, floor_mid)\n",
    "    left = bisect_left(slice_pos_list,floor_mid)\n",
    "    right = bisect_right(slice_pos_list,floor_mid)\n",
    "    slice_pos = 0\n",
    "    print(mid, left, slice_pos_list[left],right, slice_pos_list[right])\n",
    "    if not (start < slice_pos_list[left] and end > slice_pos_list[left]) and not (start < slice_pos_list[right] and end > slice_pos_list[right]):\n",
    "        heapq.heappush(ended_slice_list,[-length,start,end])\n",
    "        continue\n",
    "    if mid - slice_pos_list[left] > slice_pos_list[right] - mid:\n",
    "        # right\n",
    "        slice_pos = slice_pos_list[right]\n",
    "        sliced_pos_list.append(slice_pos_list[right])\n",
    "        del slice_pos_list[right]\n",
    "    else:\n",
    "        # left\n",
    "        slice_pos = slice_pos_list[left]\n",
    "        sliced_pos_list.append(slice_pos_list[left])\n",
    "        del slice_pos_list[left]\n",
    "    slice_num = slice_num - 1\n",
    "    \n",
    "    heapq.heappush(slice_list,[-(slice_pos-start),start,slice_pos])\n",
    "    heapq.heappush(slice_list,[-(end-slice_pos),slice_pos,end])\n",
    "    print(slice_list, ended_slice_list, slice_pos_list, sliced_pos_list)\n",
    "\n",
    "for item in slice_list:\n",
    "    heapq.heappush(ended_slice_list,item)\n",
    "sliced_pos_list.sort()\n",
    "print(ended_slice_list, sliced_pos_list)\n",
    "print(-ended_slice_list[0][0], sliced_pos_list[0])"
   ]
  },
  {
   "cell_type": "code",
   "execution_count": 77,
   "id": "d001640c",
   "metadata": {},
   "outputs": [
    {
     "name": "stdout",
     "output_type": "stream",
     "text": [
      "9 4 2\n",
      "2 4 5 7\n",
      "4 4\n"
     ]
    }
   ],
   "source": [
    "import heapq\n",
    "import math\n",
    "from bisect import bisect_left, bisect_right\n",
    "\n",
    "# bisect_left는 삽입할 위치를 알려준다. 0은 인덱스 0의 뒤에 삽입해야 함이 아니라,\n",
    "# 기존 0번째 인덱스의 위치에 새로운 값이 들어와야함을 의미한다.\n",
    "# 나는 0의 의미를 0뒤에 삽입해야 한다고 생각하여 코드를 잘못 작성하였다.\n",
    "\n",
    "default_len, pos_num, slice_num = map(int,input().split(' '))\n",
    "slice_pos_list = list(set(map(int,input().split(' '))))\n",
    "slice_pos_list.sort()\n",
    "\n",
    "slice_list = []\n",
    "ended_slice_list = []\n",
    "sliced_pos_list = []\n",
    "# heapq를 최대힙으로 사용하기 위해 '-' 부호 붙임\n",
    "heapq.heappush(slice_list,[-default_len, 0, default_len])\n",
    "\n",
    "while slice_num > 0 and slice_pos_list and slice_list:\n",
    "    length, start, end = heapq.heappop(slice_list)\n",
    "    length = -length\n",
    "    mid = start + length/2\n",
    "    left = bisect_left(slice_pos_list,mid)\n",
    "    if left > 0:\n",
    "        left = left - 1\n",
    "    slice_pos = 0\n",
    "#     print(mid,left,slice_pos_list[left])\n",
    "    if not (start < slice_pos_list[left] and end > slice_pos_list[left]):\n",
    "        heapq.heappush(ended_slice_list,[-length,start,end])\n",
    "        continue\n",
    "    slice_pos = slice_pos_list[left]\n",
    "    sliced_pos_list.append(slice_pos_list[left])\n",
    "    del slice_pos_list[left]\n",
    "    slice_num = slice_num - 1\n",
    "    \n",
    "    heapq.heappush(slice_list,[-(slice_pos-start),start,slice_pos])\n",
    "    heapq.heappush(slice_list,[-(end-slice_pos),slice_pos,end])\n",
    "#     print(slice_list, ended_slice_list, slice_pos_list, sliced_pos_list)\n",
    "\n",
    "for item in slice_list:\n",
    "    heapq.heappush(ended_slice_list,item)\n",
    "sliced_pos_list.sort()\n",
    "# print(ended_slice_list, sliced_pos_list)\n",
    "print(-ended_slice_list[0][0], sliced_pos_list[0])"
   ]
  },
  {
   "cell_type": "code",
   "execution_count": 17,
   "id": "da5fd123",
   "metadata": {},
   "outputs": [
    {
     "name": "stdout",
     "output_type": "stream",
     "text": [
      "9 2 1\n",
      "4 5\n",
      "5 4\n"
     ]
    }
   ],
   "source": [
    "L, K, C = map(int, input().split(' '))\n",
    "def solve():\n",
    "    arr = [0, *sorted(list(set(map(int,input().split())))),L]\n",
    "    pieces = [arr[i] - arr[i-1] for i in range(len(arr) - 1, 0, -1)]\n",
    "    longest_piece = max(pieces)\n",
    "    \n",
    "    def cut(length):\n",
    "        # 가장 긴 조각이 주어진 길이보다 크다는 것은\n",
    "        # 주어진 길이를 더 늘려야 한다는 것을 의미한다.\n",
    "        if longest_piece > length:\n",
    "            return 10001, 0\n",
    "        \n",
    "        cur_len = 0\n",
    "        count = 0\n",
    "        for piece_len in pieces:\n",
    "            cur_len += piece_len\n",
    "            \n",
    "            if cur_len > length:\n",
    "                cur_len = piece_len\n",
    "                count += 1\n",
    "#             print('count : ',count,' piece_len : ',piece_len,' cur_len : ',cur_len)    \n",
    "        return count, cur_len if count == C else pieces[-1]\n",
    "    \n",
    "    left, right = 0, L\n",
    "    ans_pt, ans_len = 0, 0\n",
    "    while left <= right:\n",
    "        mid = (left + right) // 2\n",
    "        cnt, pt = cut(mid)\n",
    "#         print('mid : ',mid,' cnt : ',cnt,' pt : ',pt)\n",
    "        if cnt <= C:\n",
    "            ans_pt = pt\n",
    "            ans_len = mid\n",
    "            right = mid - 1\n",
    "        else:\n",
    "            left = mid + 1\n",
    "            \n",
    "    return ans_len, ans_pt\n",
    "\n",
    "ans_len, ans_pt = solve()\n",
    "print(ans_len,ans_pt)"
   ]
  },
  {
   "cell_type": "code",
   "execution_count": 22,
   "id": "efcffbdd",
   "metadata": {},
   "outputs": [
    {
     "name": "stdout",
     "output_type": "stream",
     "text": [
      "9 2 1\n",
      "4 5\n",
      "5 4\n"
     ]
    }
   ],
   "source": [
    "L, K, C = map(int,input().split(' '))\n",
    "\n",
    "cut_pos = [0,*sorted(list(set(map(int,input().split(' '))))),L]\n",
    "pieces_len = [ cut_pos[i] - cut_pos[i-1] for i in range(len(cut_pos)-1,0,-1)]\n",
    "longest_piece = max(pieces_len)\n",
    "\n",
    "def cut(length):\n",
    "    if longest_piece > length:\n",
    "        return 10001, 0\n",
    "    # 위 if문에서 False가 난 경우\n",
    "    # 반드시 가장 긴 조각의 길이가 length이내임을 의미한다.\n",
    "    # 따라서, count > C 일지라도 모든 조각은 length이내이다.\n",
    "    count = 0\n",
    "    cur_len = 0\n",
    "    for piece in pieces_len:\n",
    "        cur_len += piece\n",
    "        if cur_len > length:\n",
    "            cur_len = piece\n",
    "            count += 1\n",
    "    return count, cur_len if count >= C else pieces_len[-1]\n",
    "\n",
    "left = 0\n",
    "right = L\n",
    "ans_len, ans_pos = 0, 0\n",
    "while left <= right:\n",
    "    mid = (left + right) // 2\n",
    "    count, pos = cut(mid)\n",
    "    if count <= C:\n",
    "        ans_len = mid\n",
    "        ans_pos = pos\n",
    "        right = mid - 1\n",
    "    else:\n",
    "        left = mid + 1\n",
    "        \n",
    "print(ans_len, ans_pos)"
   ]
  }
 ],
 "metadata": {
  "kernelspec": {
   "display_name": "Python 3 (ipykernel)",
   "language": "python",
   "name": "python3"
  },
  "language_info": {
   "codemirror_mode": {
    "name": "ipython",
    "version": 3
   },
   "file_extension": ".py",
   "mimetype": "text/x-python",
   "name": "python",
   "nbconvert_exporter": "python",
   "pygments_lexer": "ipython3",
   "version": "3.9.12"
  }
 },
 "nbformat": 4,
 "nbformat_minor": 5
}
