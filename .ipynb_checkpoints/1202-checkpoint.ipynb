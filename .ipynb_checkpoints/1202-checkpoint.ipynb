{
 "cells": [
  {
   "cell_type": "code",
   "execution_count": 6,
   "id": "72065733",
   "metadata": {},
   "outputs": [
    {
     "name": "stdout",
     "output_type": "stream",
     "text": [
      "3 2\n",
      "1 65\n",
      "5 23\n",
      "2 99\n",
      "10\n",
      "2\n",
      "164\n"
     ]
    }
   ],
   "source": [
    "# 시간 초과 되더라도 일단 해보자\n",
    "n, k = map(int,input().split())\n",
    "bosuk_list = []\n",
    "bag_list = []\n",
    "curr_bag_list = [0 for i in range(k)]\n",
    "for i in range(n):\n",
    "    bosuk = list(map(int,input().split()))\n",
    "    bosuk_list.append(bosuk)\n",
    "for i in range(k):\n",
    "    bag_list.append(int(input()))\n",
    "    \n",
    "bosuk_list.sort(key=lambda x:x[1], reverse=True)\n",
    "bag_list.sort()\n",
    "for m,v in bosuk_list:\n",
    "    for j in range(k):\n",
    "        if m <= bag_list[j] and v > curr_bag_list[j]:\n",
    "            curr_bag_list[j] = v\n",
    "            break;\n",
    "print(sum(curr_bag_list))"
   ]
  },
  {
   "cell_type": "code",
   "execution_count": 25,
   "id": "752abcdb",
   "metadata": {},
   "outputs": [
    {
     "name": "stdout",
     "output_type": "stream",
     "text": [
      "4 2\n",
      "4 100\n",
      "5 110\n",
      "6 90\n",
      "7 80\n",
      "5\n",
      "7\n",
      "210\n"
     ]
    }
   ],
   "source": [
    "# 시간 고려한 코드(잘못된 코드)\n",
    "import heapq\n",
    "\n",
    "n, k = map(int,input().split())\n",
    "bosuk_list = []\n",
    "bag_list = []\n",
    "curr_value = 0\n",
    "bosuk_sum = 0\n",
    "\n",
    "for i in range(n):\n",
    "    bosuk = list(map(int,input().split()))\n",
    "    bosuk_list.append(bosuk)\n",
    "for i in range(k):\n",
    "    bag_list.append(int(input()))\n",
    "\n",
    "bosuk_list.sort()\n",
    "bag_list.sort()\n",
    "\n",
    "q = []\n",
    "curr_bag_idx = 0\n",
    "\n",
    "# 우선순위큐에 있는 값과 비교하기 위해,\n",
    "# 우선순위큐에  초기 값을 넣기 위한 반복문이다.(불필요)\n",
    "for i in range(k):\n",
    "    if bosuk_list[0][0] <= bag_list[i]:\n",
    "        curr_bag_idx = i\n",
    "        heapq.heappush(q,[-bag_list[i],bosuk_list[0][1]])\n",
    "        break\n",
    "\n",
    "# 이 문제를 풀지 못한 이유는\n",
    "# 우선순위큐를 가방에 담긴 보석리스트로 간주하였기 때문이다.\n",
    "# \n",
    "        \n",
    "for i in range(1,n):\n",
    "    m,v = bosuk_list[i]\n",
    "    # 여기서 기존에 가장 큰 값을 가진 보석을 더 큰 보석으로 대체하는 것이 문제이다.\n",
    "    # 대체하지 말고 그냥 우선순위큐에 집어넣어야 한다.\n",
    "    if m <= -q[0][0] and v > q[0][1] and curr_bag_idx == k-1:\n",
    "        q[0][1] = v\n",
    "    elif m > q[0][0]:\n",
    "        for j in range(curr_bag_idx+1,k):\n",
    "            if m <= bag_list[j]:\n",
    "                curr_bag_idx = j\n",
    "                heapq.heappush(q,[-bag_list[j],v])\n",
    "                break\n",
    "answer = 0\n",
    "for m,v in q:\n",
    "    answer += v\n",
    "print(answer)"
   ]
  },
  {
   "cell_type": "code",
   "execution_count": 31,
   "id": "9ac717e6",
   "metadata": {},
   "outputs": [
    {
     "name": "stdout",
     "output_type": "stream",
     "text": [
      "2 2\n",
      "5 5\n",
      "5 5\n",
      "1\n",
      "10\n",
      "5\n"
     ]
    }
   ],
   "source": [
    "# 정답을 참고한 코드\n",
    "import heapq\n",
    "\n",
    "n, k = map(int,input().split())\n",
    "jew = []\n",
    "for i in range(n):\n",
    "    jew.append(list(map(int,input().split())))\n",
    "bags = []\n",
    "for i in range(k):\n",
    "    bags.append(int(input()))\n",
    "\n",
    "jew.sort()\n",
    "bags.sort()\n",
    "    \n",
    "answer = 0\n",
    "tmp = []\n",
    "for bag in bags:\n",
    "    while jew and bag >= jew[0][0]:\n",
    "        heapq.heappush(tmp,-jew[0][1])\n",
    "        heapq.heappop(jew)\n",
    "        \n",
    "    if tmp:\n",
    "        answer -= heapq.heappop(tmp)\n",
    "    elif not jew:\n",
    "        break\n",
    "print(answer)"
   ]
  }
 ],
 "metadata": {
  "kernelspec": {
   "display_name": "Python 3 (ipykernel)",
   "language": "python",
   "name": "python3"
  },
  "language_info": {
   "codemirror_mode": {
    "name": "ipython",
    "version": 3
   },
   "file_extension": ".py",
   "mimetype": "text/x-python",
   "name": "python",
   "nbconvert_exporter": "python",
   "pygments_lexer": "ipython3",
   "version": "3.9.12"
  }
 },
 "nbformat": 4,
 "nbformat_minor": 5
}
