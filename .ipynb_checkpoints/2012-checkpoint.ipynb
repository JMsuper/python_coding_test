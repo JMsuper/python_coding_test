{
 "cells": [
  {
   "cell_type": "code",
   "execution_count": 16,
   "id": "09b7bf7b",
   "metadata": {},
   "outputs": [
    {
     "name": "stdout",
     "output_type": "stream",
     "text": [
      "3\n",
      "1\n",
      "1\n",
      "1\n",
      "3\n"
     ]
    }
   ],
   "source": [
    "n = int(input())\n",
    "temp = {}\n",
    "for _ in range(n):\n",
    "    expect = int(input())\n",
    "    if expect in temp:\n",
    "        temp[expect] += 1\n",
    "    else:\n",
    "        temp[expect] = 1\n",
    "expect_list = []\n",
    "\n",
    "for key, value in temp.items():\n",
    "    expect_list.append([key,value])\n",
    "expect_list.sort(key=lambda x:x[0])\n",
    "      \n",
    "answer = 0\n",
    "next = 1\n",
    "for expect, count in expect_list:\n",
    "#     if expect - count >= next:\n",
    "#         next = expect - count + 1\n",
    "    for _ in range(count):\n",
    "        answer += abs(expect - next)\n",
    "        next += 1\n",
    "print(answer)"
   ]
  },
  {
   "cell_type": "code",
   "execution_count": null,
   "id": "5b341db7",
   "metadata": {},
   "outputs": [],
   "source": []
  }
 ],
 "metadata": {
  "kernelspec": {
   "display_name": "Python 3 (ipykernel)",
   "language": "python",
   "name": "python3"
  },
  "language_info": {
   "codemirror_mode": {
    "name": "ipython",
    "version": 3
   },
   "file_extension": ".py",
   "mimetype": "text/x-python",
   "name": "python",
   "nbconvert_exporter": "python",
   "pygments_lexer": "ipython3",
   "version": "3.9.12"
  }
 },
 "nbformat": 4,
 "nbformat_minor": 5
}
