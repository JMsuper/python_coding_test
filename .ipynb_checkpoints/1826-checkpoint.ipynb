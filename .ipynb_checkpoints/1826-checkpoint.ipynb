{
 "cells": [
  {
   "cell_type": "code",
   "execution_count": 12,
   "id": "ff44f738",
   "metadata": {},
   "outputs": [
    {
     "name": "stdout",
     "output_type": "stream",
     "text": [
      "4\n",
      "4 4\n",
      "5 2\n",
      "11 5\n",
      "15 10\n",
      "25 10\n",
      "3\n"
     ]
    }
   ],
   "source": [
    "# 틀린 풀이\n",
    "import heapq\n",
    "n = int(input())\n",
    "gas_list = []\n",
    "for _ in range(n):\n",
    "    heapq.heappush(gas_list,list(map(int,input().split())))\n",
    "l, p = map(int,input().split())\n",
    "\n",
    "gas_list.sort(key=lambda x:x[0])\n",
    "\n",
    "curr_oil = p\n",
    "answer = 0\n",
    "hq = []\n",
    "\n",
    "while gas_list:\n",
    "    dist, oil = heapq.heappop(gas_list)\n",
    "    if curr_oil >= l:\n",
    "        break\n",
    "    if curr_oil >= dist:\n",
    "        heapq.heappush(hq,-oil)\n",
    "    else:\n",
    "        if hq:\n",
    "            curr_oil -= heapq.heappop(hq)\n",
    "            heapq.heappush(hq,-oil)\n",
    "            answer += 1\n",
    "        else:\n",
    "            break\n",
    "            \n",
    "if curr_oil < l :\n",
    "    while hq:\n",
    "        curr_oil -= heapq.heappop(hq)\n",
    "        answer += 1\n",
    "        if curr_oil >= l:\n",
    "            break\n",
    "    if curr_oil < l:\n",
    "        answer = -1\n",
    "print(answer)\n",
    "\n",
    "# 틀린이유\n",
    "# 동일한 로직을 중복되게 여러 개 두어\n",
    "# 예측하지 못하는 곳에서 에러가 발생하는 것 같다.\n",
    "# 어떠한 부분이 문제인지는 찾지 못하였지만,\n",
    "# 확실하게, 하드코딩되어 있으면 문제가 발생가능한 지점을\n",
    "# 찾기 어렵다는 것을 꺠닳았다.\n",
    "# 처음에는 하드코딩하더라도, 이후 테스트 케이스에서 해당 로직이\n",
    "# 성공이라면, 코드를 재정립하여 알아보기 쉽게 정리해야 한다."
   ]
  },
  {
   "cell_type": "code",
   "execution_count": 11,
   "id": "8581adda",
   "metadata": {},
   "outputs": [
    {
     "name": "stdout",
     "output_type": "stream",
     "text": [
      "4\n",
      "4 4\n",
      "5 2\n",
      "11 5\n",
      "15 10\n",
      "25 10\n",
      "3\n"
     ]
    }
   ],
   "source": [
    "# 다른 사람의 코드를 참고하고 다시 작성한 코드\n",
    "import heapq\n",
    "\n",
    "n = int(input())\n",
    "gas_list = []\n",
    "for _ in range(n):\n",
    "    heapq.heappush(gas_list,list(map(int,input().split())))\n",
    "l, p = map(int,input().split())\n",
    "\n",
    "curr_oil = p\n",
    "answer = 0\n",
    "hq = []\n",
    "\n",
    "while curr_oil < l:\n",
    "    \n",
    "    while gas_list and gas_list[0][0] <= curr_oil:\n",
    "        dist, oil = heapq.heappop(gas_list)\n",
    "        heapq.heappush(hq,-oil)\n",
    "    \n",
    "    if not hq:\n",
    "        answer = -1\n",
    "        break\n",
    "    \n",
    "    curr_oil -= heapq.heappop(hq)\n",
    "    answer += 1\n",
    "\n",
    "print(answer)"
   ]
  }
 ],
 "metadata": {
  "kernelspec": {
   "display_name": "Python 3 (ipykernel)",
   "language": "python",
   "name": "python3"
  },
  "language_info": {
   "codemirror_mode": {
    "name": "ipython",
    "version": 3
   },
   "file_extension": ".py",
   "mimetype": "text/x-python",
   "name": "python",
   "nbconvert_exporter": "python",
   "pygments_lexer": "ipython3",
   "version": "3.9.12"
  }
 },
 "nbformat": 4,
 "nbformat_minor": 5
}
