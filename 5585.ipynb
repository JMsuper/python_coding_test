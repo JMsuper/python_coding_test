{
 "cells": [
  {
   "cell_type": "code",
   "execution_count": 4,
   "id": "5ce5e5be",
   "metadata": {},
   "outputs": [
    {
     "name": "stdout",
     "output_type": "stream",
     "text": [
      "1\n",
      "499 1 1\n",
      "99 2 5\n",
      "49 3 6\n",
      "9 4 10\n",
      "4 5 11\n",
      "0 6 15\n",
      "15\n"
     ]
    }
   ],
   "source": [
    "price = int(input())\n",
    "money = 1000\n",
    "coin_list = [500,100,50,10,5,1]\n",
    "answer = 0\n",
    "\n",
    "remain = money - price\n",
    "i = 0\n",
    "while remain != 0:\n",
    "    coin_cnt = remain // coin_list[i]\n",
    "    answer += coin_cnt\n",
    "    remain -= coin_cnt * coin_list[i]\n",
    "    i += 1\n",
    "\n",
    "print(answer)"
   ]
  }
 ],
 "metadata": {
  "kernelspec": {
   "display_name": "Python 3 (ipykernel)",
   "language": "python",
   "name": "python3"
  },
  "language_info": {
   "codemirror_mode": {
    "name": "ipython",
    "version": 3
   },
   "file_extension": ".py",
   "mimetype": "text/x-python",
   "name": "python",
   "nbconvert_exporter": "python",
   "pygments_lexer": "ipython3",
   "version": "3.9.12"
  }
 },
 "nbformat": 4,
 "nbformat_minor": 5
}
