{
 "cells": [
  {
   "cell_type": "code",
   "execution_count": 34,
   "id": "e5fd4194",
   "metadata": {},
   "outputs": [
    {
     "name": "stdout",
     "output_type": "stream",
     "text": [
      "4\n",
      "CCCC\n",
      "CCCC\n",
      "CCCC\n",
      "CCCC\n",
      "4\n"
     ]
    }
   ],
   "source": [
    "# C : 빨간색, P : 파란색, Z : 초록색, Y : 노란색\n",
    "# 인전한 사탕 1쌍만 바꿀 경우 가장 많은 사탕을 먹을 수 있는 경우를 추출\n",
    "# 먹을 수 있는 사탕의 최대 개수 출력\n",
    "\n",
    "def find_max_continue_candy(candy_board,axis,idx):\n",
    "    previous = 'A' # 임시 값\n",
    "    continue_count = 1\n",
    "    max_value = 1\n",
    "    \n",
    "    if axis == 0:\n",
    "        for candy in candy_board[idx]:\n",
    "            if candy == previous:\n",
    "                continue_count += 1\n",
    "            else:\n",
    "                if continue_count > max_value:\n",
    "                    max_value = continue_count\n",
    "                continue_count = 1\n",
    "                previous = candy\n",
    "    else:\n",
    "        for i in range(len(candy_board[0])):\n",
    "            if candy_board[i][idx] == previous:\n",
    "                continue_count += 1\n",
    "            else:\n",
    "                if continue_count > max_value:\n",
    "                    max_value = continue_count\n",
    "                continue_count = 1\n",
    "                previous = candy_board[i][idx]\n",
    "    if continue_count > max_value:\n",
    "        max_value = continue_count\n",
    "    return max_value\n",
    "\n",
    "n = int(input())\n",
    "board = []\n",
    "for i in range(n):\n",
    "    board.append(list(input()))\n",
    "\n",
    "max_value = 0\n",
    "\n",
    "# 사탕 좌우 교환\n",
    "for i in range(n):\n",
    "    for j in range(n-1):\n",
    "        board[i][j], board[i][j+1] = board[i][j+1], board[i][j]\n",
    "        temp = find_max_continue_candy(board,0,i)\n",
    "        if max_value < temp:\n",
    "            max_value = temp\n",
    "        for k in range(2):\n",
    "            temp = find_max_continue_candy(board,1,j+k)\n",
    "            if max_value < temp:\n",
    "                max_value = temp\n",
    "        board[i][j], board[i][j+1] = board[i][j+1], board[i][j]\n",
    "        \n",
    "# 사탕 상하 교환\n",
    "for i in range(n-1):\n",
    "    for j in range(n):\n",
    "        board[i][j], board[i+1][j] = board[i+1][j], board[i][j]\n",
    "        for k in range(2):\n",
    "            temp = find_max_continue_candy(board,0,i+k)\n",
    "            if max_value < temp:\n",
    "                max_value = temp\n",
    "        temp = find_max_continue_candy(board,1,j)\n",
    "        if max_value < temp:\n",
    "            max_value = temp\n",
    "\n",
    "        board[i][j], board[i+1][j] = board[i+1][j], board[i][j]\n",
    "\n",
    "print(max_value)"
   ]
  }
 ],
 "metadata": {
  "kernelspec": {
   "display_name": "Python 3 (ipykernel)",
   "language": "python",
   "name": "python3"
  },
  "language_info": {
   "codemirror_mode": {
    "name": "ipython",
    "version": 3
   },
   "file_extension": ".py",
   "mimetype": "text/x-python",
   "name": "python",
   "nbconvert_exporter": "python",
   "pygments_lexer": "ipython3",
   "version": "3.9.12"
  }
 },
 "nbformat": 4,
 "nbformat_minor": 5
}
