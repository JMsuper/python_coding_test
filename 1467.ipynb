{
 "cells": [
  {
   "cell_type": "code",
   "execution_count": 75,
   "id": "8bb88e12",
   "metadata": {},
   "outputs": [
    {
     "name": "stdout",
     "output_type": "stream",
     "text": [
      "902647810812895831453\n",
      "3176349200185\n",
      "[9, 0, 2, 6, 4, 7, 8, 1, 0, 8, 1, 2, 8, 9, 5, 8, 3, 1, 4, 5, 3] [0, 0, 1, 1, 2, 3, 3, 4, 5, 6, 7, 8, 9] {9: [0, 13], 0: [1, 8], 2: [2, 11], 6: [3], 4: [4, 18], 7: [5], 8: [6, 9, 12, 15], 1: [7, 10, 17], 5: [14, 19], 3: [16, 20]}\n",
      "[9, -1, 2, 6, 4, 7, 8, 1, 0, 8, 1, 2, 8, 9, 5, 8, 3, 1, 4, 5, 3] [0, 0, 1, 1, 2, 3, 3, 4, 5, 6, 7, 8, 9] {9: [0, 13], 0: [8], 2: [2, 11], 6: [3], 4: [4, 18], 7: [5], 8: [6, 9, 12, 15], 1: [7, 10, 17], 5: [14, 19], 3: [16, 20]}\n",
      "[9, -1, 2, 6, 4, 7, 8, 1, -1, 8, 1, 2, 8, 9, 5, 8, 3, 1, 4, 5, 3] [0, 0, 1, 1, 2, 3, 3, 4, 5, 6, 7, 8, 9] {9: [0, 13], 0: [], 2: [2, 11], 6: [3], 4: [4, 18], 7: [5], 8: [6, 9, 12, 15], 1: [7, 10, 17], 5: [14, 19], 3: [16, 20]}\n",
      "[9, -1, 2, 6, 4, 7, 8, -1, -1, 8, 1, 2, 8, 9, 5, 8, 3, 1, 4, 5, 3] [0, 0, 1, 1, 2, 3, 3, 4, 5, 6, 7, 8, 9] {9: [0, 13], 0: [], 2: [2, 11], 6: [3], 4: [4, 18], 7: [5], 8: [6, 9, 12, 15], 1: [10, 17], 5: [14, 19], 3: [16, 20]}\n",
      "[9, -1, 2, 6, 4, 7, 8, -1, -1, 8, -1, 2, 8, 9, 5, 8, 3, 1, 4, 5, 3] [0, 0, 1, 1, 2, 3, 3, 4, 5, 6, 7, 8, 9] {9: [0, 13], 0: [], 2: [2, 11], 6: [3], 4: [4, 18], 7: [5], 8: [6, 9, 12, 15], 1: [17], 5: [14, 19], 3: [16, 20]}\n",
      "[9, -1, -1, 6, 4, 7, 8, -1, -1, 8, -1, 2, 8, 9, 5, 8, 3, 1, 4, 5, 3] [0, 0, 1, 1, 2, 3, 3, 4, 5, 6, 7, 8, 9] {9: [0, 13], 0: [], 2: [11], 6: [3], 4: [4, 18], 7: [5], 8: [6, 9, 12, 15], 1: [17], 5: [14, 19], 3: [16, 20]}\n",
      "[9, -1, -1, 6, 4, 7, 8, -1, -1, 8, -1, 2, 8, 9, 5, 8, 3, 1, 4, 5, -1] [0, 0, 1, 1, 2, 3, 3, 4, 5, 6, 7, 8, 9] {9: [0, 13], 0: [], 2: [11], 6: [3], 4: [4, 18], 7: [5], 8: [6, 9, 12, 15], 1: [17], 5: [14, 19], 3: [16]}\n",
      "[9, -1, -1, 6, 4, 7, 8, -1, -1, 8, -1, 2, 8, 9, 5, 8, -1, 1, 4, 5, -1] [0, 0, 1, 1, 2, 3, 3, 4, 5, 6, 7, 8, 9] {9: [0, 13], 0: [], 2: [11], 6: [3], 4: [4, 18], 7: [5], 8: [6, 9, 12, 15], 1: [17], 5: [14, 19], 3: []}\n",
      "[9, -1, -1, 6, -1, 7, 8, -1, -1, 8, -1, 2, 8, 9, 5, 8, -1, 1, 4, 5, -1] [0, 0, 1, 1, 2, 3, 3, 4, 5, 6, 7, 8, 9] {9: [0, 13], 0: [], 2: [11], 6: [3], 4: [18], 7: [5], 8: [6, 9, 12, 15], 1: [17], 5: [14, 19], 3: []}\n",
      "[9, -1, -1, 6, -1, 7, 8, -1, -1, 8, -1, 2, 8, 9, -1, 8, -1, 1, 4, 5, -1] [0, 0, 1, 1, 2, 3, 3, 4, 5, 6, 7, 8, 9] {9: [0, 13], 0: [], 2: [11], 6: [3], 4: [18], 7: [5], 8: [6, 9, 12, 15], 1: [17], 5: [19], 3: []}\n",
      "[9, -1, -1, -1, -1, 7, 8, -1, -1, 8, -1, 2, 8, 9, -1, 8, -1, 1, 4, 5, -1] [0, 0, 1, 1, 2, 3, 3, 4, 5, 6, 7, 8, 9] {9: [0, 13], 0: [], 2: [11], 6: [], 4: [18], 7: [5], 8: [6, 9, 12, 15], 1: [17], 5: [19], 3: []}\n",
      "[9, -1, -1, -1, -1, -1, 8, -1, -1, 8, -1, 2, 8, 9, -1, 8, -1, 1, 4, 5, -1] [0, 0, 1, 1, 2, 3, 3, 4, 5, 6, 7, 8, 9] {9: [0, 13], 0: [], 2: [11], 6: [], 4: [18], 7: [], 8: [6, 9, 12, 15], 1: [17], 5: [19], 3: []}\n",
      "[9, -1, -1, -1, -1, -1, 8, -1, -1, 8, -1, 2, -1, 9, -1, 8, -1, 1, 4, 5, -1] [0, 0, 1, 1, 2, 3, 3, 4, 5, 6, 7, 8, 9] {9: [0, 13], 0: [], 2: [11], 6: [], 4: [18], 7: [], 8: [6, 9, 15], 1: [17], 5: [19], 3: []}\n",
      "98828145\n"
     ]
    }
   ],
   "source": [
    "num_list = list(map(int,input()))\n",
    "del_list = list(map(int,input()))\n",
    "\n",
    "del_list.sort()\n",
    "num_dict = {}\n",
    "for i in range(len(num_list)):\n",
    "    num = num_list[i]\n",
    "    if num in num_dict:\n",
    "        num_dict[num].append(i)\n",
    "    else:\n",
    "        num_dict[num] = [i]\n",
    "\n",
    "\n",
    "for num in del_list:\n",
    "    print(num_list,del_list,num_dict)\n",
    "    if not num in num_dict:\n",
    "        continue\n",
    "    idx_list = num_dict[num]\n",
    "    for i in range(len(idx_list)):\n",
    "        if i == len(idx_list)-1:\n",
    "            num_list[idx_list[i]] = -1\n",
    "            num_dict[num].remove(idx_list[i])\n",
    "            break\n",
    "        \n",
    "        j = idx_list[i] + 1\n",
    "        while j < len(num_list) and num_list[j] < 0:\n",
    "            j += 1\n",
    "        if num_list[idx_list[i]] >= num_list[j]:\n",
    "            continue\n",
    "        else:\n",
    "            num_list[idx_list[i]] = -1\n",
    "            num_dict[num].remove(idx_list[i])\n",
    "            if num == 6:\n",
    "                print(num_list,del_list,num_dict)\n",
    "            break\n",
    "\n",
    "answer = \"\"\n",
    "for num in num_list:\n",
    "    if num >= 0:\n",
    "        answer = answer + str(num)\n",
    "print(answer)"
   ]
  },
  {
   "cell_type": "code",
   "execution_count": 44,
   "id": "381d6c53",
   "metadata": {},
   "outputs": [
    {
     "name": "stdout",
     "output_type": "stream",
     "text": [
      "<class 'list'>\n",
      "['29817418448503256568602989843585197227304376713768142325792446803860274', '8871488678704296959437107210', '']\n"
     ]
    }
   ],
   "source": [
    "902647810812895831453 3176349200185 98828514 98828145 \n",
    "f = open('C:/Users/A/Downloads/testcases/input_001.txt','r')\n",
    "x = f.read().split(\"\\n\")\n",
    "print(type(x))\n",
    "print(x)\n",
    "f.close()"
   ]
  },
  {
   "cell_type": "code",
   "execution_count": 73,
   "id": "66fb517b",
   "metadata": {},
   "outputs": [
    {
     "name": "stdout",
     "output_type": "stream",
     "text": [
      "902647810812895831453 3176349200185 98828514 98828145\n",
      "[0, 0, 1, 1, 1, 1, 1, 1, 0, 1, 0, 1, 1, 1, 0, 1, 1, 1, 1, 0, 1, 1, 0, 1, 0, 1, 0, 1, 0, 0, 1, 1, 1, 1, 1, 1, 1, 1, 1, 1, 1, 1, 1, 1, 0, 1, 0, 1, 0, 0, 1, 0, 1, 1, 1, 1, 1, 1, 1, 1, 0, 1, 1, 0, 0, 1, 0, 1, 1, 0, 1, 1, 1, 1, 1, 1, 1, 0, 1, 1, 1, 1, 1, 1, 0, 1, 0, 1, 1, 0, 1, 0, 1, 1, 1, 1, 0, 1, 0, 1]\n"
     ]
    }
   ],
   "source": [
    "def func(num_str,del_str):\n",
    "    num_list = list(map(int,num_str))\n",
    "    del_list = list(map(int,del_str))\n",
    "    del_list.sort()\n",
    "    num_dict = {}\n",
    "    for i in range(len(num_list)):\n",
    "        num = num_list[i]\n",
    "        if num in num_dict:\n",
    "            num_dict[num].append(i)\n",
    "        else:\n",
    "            num_dict[num] = [i]\n",
    "\n",
    "\n",
    "    for num in del_list:\n",
    "    #     print(num_list,del_list,num_dict)\n",
    "        if not num in num_dict:\n",
    "            continue\n",
    "        idx_list = num_dict[num]\n",
    "        for i in range(len(idx_list)):\n",
    "            if i == len(idx_list)-1:\n",
    "                num_list[idx_list[i]] = -1\n",
    "                num_dict[num].remove(idx_list[i])\n",
    "                break\n",
    "\n",
    "            j = idx_list[i] + 1\n",
    "            while j < len(num_list) and num_list[j] < 0:\n",
    "                j += 1\n",
    "            if num_list[idx_list[i]] >= num_list[j]:\n",
    "                continue\n",
    "            else:\n",
    "                num_list[idx_list[i]] = -1\n",
    "                num_dict[num].remove(idx_list[i])\n",
    "                break\n",
    "\n",
    "    answer = \"\"\n",
    "    for num in num_list:\n",
    "        if num >= 0:\n",
    "            answer = answer + str(num)\n",
    "    return answer\n",
    "\n",
    "result_list = []\n",
    "\n",
    "for i in range(1,101,1):\n",
    "    temp = \"\"\n",
    "    if i < 10:\n",
    "        temp = \"00\" + str(i)\n",
    "    elif 10 <= i and i < 100:\n",
    "        temp = \"0\" + str(i)\n",
    "    elif i == 100:\n",
    "        temp = str(i)\n",
    "        \n",
    "    f1 = open('C:/Users/A/Downloads/testcases/input_'+temp+'.txt','r')\n",
    "    f2 = open('C:/Users/A/Downloads/testcases/output_'+temp+'.txt','r')\n",
    "    f1_list = f1.read().split(\"\\n\")\n",
    "    f2_list = f2.read().split(\"\\n\")\n",
    "    num_str, del_str, result = f1_list[0], f1_list[1], f2_list[0]\n",
    "    \n",
    "    if i == 99:\n",
    "        print(num_str,del_str,result,func(num_str,del_str))\n",
    "    if result == func(num_str,del_str):\n",
    "        result_list.append(1)\n",
    "    else:\n",
    "        result_list.append(0)\n",
    "    f.close()\n",
    "print(result_list)"
   ]
  },
  {
   "cell_type": "code",
   "execution_count": 94,
   "id": "baa494f3",
   "metadata": {},
   "outputs": [
    {
     "name": "stdout",
     "output_type": "stream",
     "text": [
      "2654982765982365\n",
      "2345978\n",
      "698265265\n"
     ]
    }
   ],
   "source": [
    "from collections import Counter\n",
    "\n",
    "num_str = input().strip()\n",
    "del_str = input().strip()\n",
    "cnt = Counter(num_str) - Counter(del_str)\n",
    "answer = ''\n",
    "idx = 0\n",
    "\n",
    "while cnt:\n",
    "    for i in range(9,-1,-1):\n",
    "        num = str(i)\n",
    "        if cnt[num] < 1:\n",
    "            continue\n",
    "        t = num_str.find(num,idx)\n",
    "        check = cnt - Counter(num_str[t:])\n",
    "        if check:\n",
    "            continue\n",
    "        else:\n",
    "            answer += num\n",
    "            idx = t + 1\n",
    "            cnt[num] -= 1\n",
    "            if cnt[num] == 0:\n",
    "                del cnt[num]\n",
    "            break\n",
    "print(answer)"
   ]
  }
 ],
 "metadata": {
  "kernelspec": {
   "display_name": "Python 3 (ipykernel)",
   "language": "python",
   "name": "python3"
  },
  "language_info": {
   "codemirror_mode": {
    "name": "ipython",
    "version": 3
   },
   "file_extension": ".py",
   "mimetype": "text/x-python",
   "name": "python",
   "nbconvert_exporter": "python",
   "pygments_lexer": "ipython3",
   "version": "3.9.12"
  }
 },
 "nbformat": 4,
 "nbformat_minor": 5
}
