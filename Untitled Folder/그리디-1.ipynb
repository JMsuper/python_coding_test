{
 "cells": [
  {
   "cell_type": "code",
   "execution_count": 26,
   "id": "93b1cf52",
   "metadata": {},
   "outputs": [
    {
     "name": "stdout",
     "output_type": "stream",
     "text": [
      "1260\n",
      "6\n"
     ]
    }
   ],
   "source": [
    "# 그리디 문제는 정당성 분석을 통해 확인해야 한다.\n",
    "\n",
    "# 거스름 돈 문제\n",
    "\n",
    "n = int(input())\n",
    "coin_list = [500,100,50,10]\n",
    "\n",
    "answer = 0\n",
    " \n",
    "for coin in coin_list:\n",
    "    answer += n // coin\n",
    "    n %= coin\n",
    "print(answer)"
   ]
  },
  {
   "cell_type": "code",
   "execution_count": 2,
   "id": "030bc56e",
   "metadata": {},
   "outputs": [
    {
     "name": "stdout",
     "output_type": "stream",
     "text": [
      "25 5\n",
      "2\n"
     ]
    }
   ],
   "source": [
    "# 문제 1이 될 때까지\n",
    "N, K = map(int,input().split())\n",
    "\n",
    "answer = 0\n",
    "\n",
    "while N > 1:\n",
    "    if N % K != 0:\n",
    "        N = N - 1\n",
    "        answer = answer + 1\n",
    "    else:\n",
    "        N = N // K\n",
    "        answer = answer + 1\n",
    "print(answer)"
   ]
  },
  {
   "cell_type": "code",
   "execution_count": 5,
   "id": "a4a85735",
   "metadata": {},
   "outputs": [
    {
     "name": "stdout",
     "output_type": "stream",
     "text": [
      "25 5\n",
      "2\n"
     ]
    }
   ],
   "source": [
    "n, k = map(int,input().split())\n",
    "\n",
    "answer = 0\n",
    "\n",
    "while True:\n",
    "    # N이 K로 나누어 떨어지는 수가 될 때까지 빼기\n",
    "    target = (n//k)*k\n",
    "    answer += (n - target)\n",
    "    n = target\n",
    "    # N이 K보다 작을 때\n",
    "    if n < k:\n",
    "        break\n",
    "    # K로 나누기\n",
    "    answer += 1\n",
    "    n //= k\n",
    "    \n",
    "# 마지막으로 남은 수에 대하여 1씩 빼기\n",
    "answer += (n - 1)\n",
    "print(answer)"
   ]
  },
  {
   "cell_type": "code",
   "execution_count": 20,
   "id": "915fbc85",
   "metadata": {},
   "outputs": [
    {
     "name": "stdout",
     "output_type": "stream",
     "text": [
      "02984\n",
      "576\n"
     ]
    }
   ],
   "source": [
    "# 문제 : 곱하기 혹은 더하기\n",
    "num_list = list(map(int,list(input())))\n",
    "\n",
    "cumulative_sum = 0\n",
    "\n",
    "for num in num_list:\n",
    "    if cumulative_sum + num >= cumulative_sum * num:\n",
    "        cumulative_sum += num\n",
    "    else:\n",
    "        cumulative_sum *= num\n",
    "\n",
    "print(cumulative_sum)"
   ]
  },
  {
   "cell_type": "code",
   "execution_count": 25,
   "id": "16e64bb9",
   "metadata": {},
   "outputs": [
    {
     "name": "stdout",
     "output_type": "stream",
     "text": [
      "5\n",
      "2 3 1 2 2\n",
      "[1, 2, 2, 2, 3]\n",
      "2\n"
     ]
    }
   ],
   "source": [
    "# 문제 : 모험가 길드\n",
    "n = input()\n",
    "scare_list = list(map(int,input().split()))\n",
    "\n",
    "scare_list.sort()\n",
    "print(scare_list)\n",
    "\n",
    "answer = 0\n",
    "temp_group = []\n",
    "for scare in scare_list:\n",
    "    temp_group.append(scare)\n",
    "    if scare <= len(temp_group):\n",
    "        temp_group = []\n",
    "        answer += 1\n",
    "print(answer)"
   ]
  },
  {
   "cell_type": "code",
   "execution_count": null,
   "id": "816d8f1e",
   "metadata": {},
   "outputs": [],
   "source": [
    "총 제한시간이 없을 경우 최대 5초라고 가정"
   ]
  },
  {
   "cell_type": "code",
   "execution_count": 33,
   "id": "8da5d4fa",
   "metadata": {},
   "outputs": [
    {
     "name": "stdout",
     "output_type": "stream",
     "text": [
      "3 1 2\n",
      "5\n",
      "[(1, 2), (3, 1), (2, 3)]\n",
      "(1, 2) [(1, 2), (3, 1), (2, 3)]\n",
      "(2, 3) [(2, 3), (3, 1)]\n",
      "(3, 1) [(3, 1)]\n",
      "[]\n"
     ]
    }
   ],
   "source": [
    "# 문제 : 무지의 먹방 라이브러리\n",
    "import heapq\n",
    "\n",
    "food_times = list(map(int,input().split()))\n",
    "k = int(input())\n",
    "\n",
    "def solution(food_times, k):\n",
    "    if sum(food_times) <= k:\n",
    "        return -1\n",
    "\n",
    "    hq = []\n",
    "    for i in range(len(food_times)):\n",
    "        heapq.heappush(hq,(food_times[i],i+1))\n",
    "    \n",
    "    sum_value = 0\n",
    "    previous = 0\n",
    "    length = len(food_times)\n",
    "    \n",
    "    # sum_value + (현재의 음식 시간 - 이전 음식 시간) * 현재 음식 개수와 k 비교\n",
    "    while sum_value + (hq[0][0] - previous)*length <= k:\n",
    "        now = heapq.heappop(q)[0]\n",
    "        sum_value += (now - previous) * length\n",
    "        length -= 1\n",
    "        previous = now"
   ]
  }
 ],
 "metadata": {
  "kernelspec": {
   "display_name": "Python 3 (ipykernel)",
   "language": "python",
   "name": "python3"
  },
  "language_info": {
   "codemirror_mode": {
    "name": "ipython",
    "version": 3
   },
   "file_extension": ".py",
   "mimetype": "text/x-python",
   "name": "python",
   "nbconvert_exporter": "python",
   "pygments_lexer": "ipython3",
   "version": "3.9.12"
  }
 },
 "nbformat": 4,
 "nbformat_minor": 5
}
