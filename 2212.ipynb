{
 "cells": [
  {
   "cell_type": "code",
   "execution_count": 18,
   "id": "ae201097",
   "metadata": {},
   "outputs": [
    {
     "name": "stdout",
     "output_type": "stream",
     "text": [
      "6\n",
      "2\n",
      "1 3 6 6 7 9\n",
      "5\n"
     ]
    }
   ],
   "source": [
    "n = int(input())\n",
    "k = int(input())\n",
    "sensor = list(set(list(map(int,input().split()))))\n",
    "sensor.sort()\n",
    "\n",
    "if n <= k:\n",
    "    print(0)\n",
    "else:\n",
    "    dist = []\n",
    "    for i in range(len(sensor)-1):\n",
    "        dist.append(sensor[i+1]-sensor[i])\n",
    "    dist.sort(reverse=True)\n",
    "    \n",
    "    for i in range(k-1):\n",
    "        dist[i]=0\n",
    "    print(sum(dist))"
   ]
  }
 ],
 "metadata": {
  "kernelspec": {
   "display_name": "Python 3 (ipykernel)",
   "language": "python",
   "name": "python3"
  },
  "language_info": {
   "codemirror_mode": {
    "name": "ipython",
    "version": 3
   },
   "file_extension": ".py",
   "mimetype": "text/x-python",
   "name": "python",
   "nbconvert_exporter": "python",
   "pygments_lexer": "ipython3",
   "version": "3.9.12"
  }
 },
 "nbformat": 4,
 "nbformat_minor": 5
}
